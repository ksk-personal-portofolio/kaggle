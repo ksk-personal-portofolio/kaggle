{
 "cells": [
  {
   "cell_type": "code",
   "execution_count": 1,
   "metadata": {},
   "outputs": [],
   "source": [
    "# Define Tasks\n",
    "## we need to predict item_cnt_month from item id "
   ]
  },
  {
   "cell_type": "code",
   "execution_count": 2,
   "metadata": {},
   "outputs": [],
   "source": [
    "# import library\n",
    "import pandas as pd\n",
    "import numpy as np\n",
    "import seaborn as sns\n",
    "import scipy.stats as stats\n",
    "import matplotlib.pyplot as plt\n",
    "%matplotlib inline "
   ]
  },
  {
   "cell_type": "code",
   "execution_count": 3,
   "metadata": {},
   "outputs": [],
   "source": [
    "# Data Loading\n",
    "sales_train = pd.read_csv('data/sales_train.csv', parse_dates=[0])\n",
    "items = pd.read_csv('data/items.csv')\n",
    "shops = pd.read_csv('data/shops.csv')\n",
    "item_categories = pd.read_csv('data/item_categories.csv')\n",
    "test = pd.read_csv('data/test.csv')\n",
    "sample_submission = pd.read_csv('data/sample_submission.csv')"
   ]
  },
  {
   "cell_type": "code",
   "execution_count": 4,
   "metadata": {},
   "outputs": [
    {
     "data": {
      "text/html": [
       "<div>\n",
       "<style scoped>\n",
       "    .dataframe tbody tr th:only-of-type {\n",
       "        vertical-align: middle;\n",
       "    }\n",
       "\n",
       "    .dataframe tbody tr th {\n",
       "        vertical-align: top;\n",
       "    }\n",
       "\n",
       "    .dataframe thead th {\n",
       "        text-align: right;\n",
       "    }\n",
       "</style>\n",
       "<table border=\"1\" class=\"dataframe\">\n",
       "  <thead>\n",
       "    <tr style=\"text-align: right;\">\n",
       "      <th></th>\n",
       "      <th>date</th>\n",
       "      <th>date_block_num</th>\n",
       "      <th>shop_id</th>\n",
       "      <th>item_id</th>\n",
       "      <th>item_price</th>\n",
       "      <th>item_cnt_day</th>\n",
       "    </tr>\n",
       "  </thead>\n",
       "  <tbody>\n",
       "    <tr>\n",
       "      <th>0</th>\n",
       "      <td>2013-02-01</td>\n",
       "      <td>0</td>\n",
       "      <td>59</td>\n",
       "      <td>22154</td>\n",
       "      <td>999.00</td>\n",
       "      <td>1.0</td>\n",
       "    </tr>\n",
       "    <tr>\n",
       "      <th>1</th>\n",
       "      <td>2013-03-01</td>\n",
       "      <td>0</td>\n",
       "      <td>25</td>\n",
       "      <td>2552</td>\n",
       "      <td>899.00</td>\n",
       "      <td>1.0</td>\n",
       "    </tr>\n",
       "    <tr>\n",
       "      <th>2</th>\n",
       "      <td>2013-05-01</td>\n",
       "      <td>0</td>\n",
       "      <td>25</td>\n",
       "      <td>2552</td>\n",
       "      <td>899.00</td>\n",
       "      <td>-1.0</td>\n",
       "    </tr>\n",
       "    <tr>\n",
       "      <th>3</th>\n",
       "      <td>2013-06-01</td>\n",
       "      <td>0</td>\n",
       "      <td>25</td>\n",
       "      <td>2554</td>\n",
       "      <td>1709.05</td>\n",
       "      <td>1.0</td>\n",
       "    </tr>\n",
       "    <tr>\n",
       "      <th>4</th>\n",
       "      <td>2013-01-15</td>\n",
       "      <td>0</td>\n",
       "      <td>25</td>\n",
       "      <td>2555</td>\n",
       "      <td>1099.00</td>\n",
       "      <td>1.0</td>\n",
       "    </tr>\n",
       "  </tbody>\n",
       "</table>\n",
       "</div>"
      ],
      "text/plain": [
       "        date  date_block_num  shop_id  item_id  item_price  item_cnt_day\n",
       "0 2013-02-01               0       59    22154      999.00           1.0\n",
       "1 2013-03-01               0       25     2552      899.00           1.0\n",
       "2 2013-05-01               0       25     2552      899.00          -1.0\n",
       "3 2013-06-01               0       25     2554     1709.05           1.0\n",
       "4 2013-01-15               0       25     2555     1099.00           1.0"
      ]
     },
     "execution_count": 4,
     "metadata": {},
     "output_type": "execute_result"
    }
   ],
   "source": [
    "sales_train.head()"
   ]
  },
  {
   "cell_type": "code",
   "execution_count": 5,
   "metadata": {},
   "outputs": [
    {
     "data": {
      "text/html": [
       "<div>\n",
       "<style scoped>\n",
       "    .dataframe tbody tr th:only-of-type {\n",
       "        vertical-align: middle;\n",
       "    }\n",
       "\n",
       "    .dataframe tbody tr th {\n",
       "        vertical-align: top;\n",
       "    }\n",
       "\n",
       "    .dataframe thead th {\n",
       "        text-align: right;\n",
       "    }\n",
       "</style>\n",
       "<table border=\"1\" class=\"dataframe\">\n",
       "  <thead>\n",
       "    <tr style=\"text-align: right;\">\n",
       "      <th></th>\n",
       "      <th>item_name</th>\n",
       "      <th>item_id</th>\n",
       "      <th>item_category_id</th>\n",
       "    </tr>\n",
       "  </thead>\n",
       "  <tbody>\n",
       "    <tr>\n",
       "      <th>0</th>\n",
       "      <td>! ВО ВЛАСТИ НАВАЖДЕНИЯ (ПЛАСТ.)         D</td>\n",
       "      <td>0</td>\n",
       "      <td>40</td>\n",
       "    </tr>\n",
       "    <tr>\n",
       "      <th>1</th>\n",
       "      <td>!ABBYY FineReader 12 Professional Edition Full...</td>\n",
       "      <td>1</td>\n",
       "      <td>76</td>\n",
       "    </tr>\n",
       "    <tr>\n",
       "      <th>2</th>\n",
       "      <td>***В ЛУЧАХ СЛАВЫ   (UNV)                    D</td>\n",
       "      <td>2</td>\n",
       "      <td>40</td>\n",
       "    </tr>\n",
       "    <tr>\n",
       "      <th>3</th>\n",
       "      <td>***ГОЛУБАЯ ВОЛНА  (Univ)                      D</td>\n",
       "      <td>3</td>\n",
       "      <td>40</td>\n",
       "    </tr>\n",
       "    <tr>\n",
       "      <th>4</th>\n",
       "      <td>***КОРОБКА (СТЕКЛО)                       D</td>\n",
       "      <td>4</td>\n",
       "      <td>40</td>\n",
       "    </tr>\n",
       "  </tbody>\n",
       "</table>\n",
       "</div>"
      ],
      "text/plain": [
       "                                           item_name  item_id  \\\n",
       "0          ! ВО ВЛАСТИ НАВАЖДЕНИЯ (ПЛАСТ.)         D        0   \n",
       "1  !ABBYY FineReader 12 Professional Edition Full...        1   \n",
       "2      ***В ЛУЧАХ СЛАВЫ   (UNV)                    D        2   \n",
       "3    ***ГОЛУБАЯ ВОЛНА  (Univ)                      D        3   \n",
       "4        ***КОРОБКА (СТЕКЛО)                       D        4   \n",
       "\n",
       "   item_category_id  \n",
       "0                40  \n",
       "1                76  \n",
       "2                40  \n",
       "3                40  \n",
       "4                40  "
      ]
     },
     "execution_count": 5,
     "metadata": {},
     "output_type": "execute_result"
    }
   ],
   "source": [
    "items.head()"
   ]
  },
  {
   "cell_type": "code",
   "execution_count": 6,
   "metadata": {},
   "outputs": [
    {
     "data": {
      "text/html": [
       "<div>\n",
       "<style scoped>\n",
       "    .dataframe tbody tr th:only-of-type {\n",
       "        vertical-align: middle;\n",
       "    }\n",
       "\n",
       "    .dataframe tbody tr th {\n",
       "        vertical-align: top;\n",
       "    }\n",
       "\n",
       "    .dataframe thead th {\n",
       "        text-align: right;\n",
       "    }\n",
       "</style>\n",
       "<table border=\"1\" class=\"dataframe\">\n",
       "  <thead>\n",
       "    <tr style=\"text-align: right;\">\n",
       "      <th></th>\n",
       "      <th>shop_name</th>\n",
       "      <th>shop_id</th>\n",
       "    </tr>\n",
       "  </thead>\n",
       "  <tbody>\n",
       "    <tr>\n",
       "      <th>0</th>\n",
       "      <td>!Якутск Орджоникидзе, 56 фран</td>\n",
       "      <td>0</td>\n",
       "    </tr>\n",
       "    <tr>\n",
       "      <th>1</th>\n",
       "      <td>!Якутск ТЦ \"Центральный\" фран</td>\n",
       "      <td>1</td>\n",
       "    </tr>\n",
       "    <tr>\n",
       "      <th>2</th>\n",
       "      <td>Адыгея ТЦ \"Мега\"</td>\n",
       "      <td>2</td>\n",
       "    </tr>\n",
       "    <tr>\n",
       "      <th>3</th>\n",
       "      <td>Балашиха ТРК \"Октябрь-Киномир\"</td>\n",
       "      <td>3</td>\n",
       "    </tr>\n",
       "    <tr>\n",
       "      <th>4</th>\n",
       "      <td>Волжский ТЦ \"Волга Молл\"</td>\n",
       "      <td>4</td>\n",
       "    </tr>\n",
       "  </tbody>\n",
       "</table>\n",
       "</div>"
      ],
      "text/plain": [
       "                        shop_name  shop_id\n",
       "0   !Якутск Орджоникидзе, 56 фран        0\n",
       "1   !Якутск ТЦ \"Центральный\" фран        1\n",
       "2                Адыгея ТЦ \"Мега\"        2\n",
       "3  Балашиха ТРК \"Октябрь-Киномир\"        3\n",
       "4        Волжский ТЦ \"Волга Молл\"        4"
      ]
     },
     "execution_count": 6,
     "metadata": {},
     "output_type": "execute_result"
    }
   ],
   "source": [
    "shops.head()"
   ]
  },
  {
   "cell_type": "code",
   "execution_count": 7,
   "metadata": {},
   "outputs": [
    {
     "data": {
      "text/html": [
       "<div>\n",
       "<style scoped>\n",
       "    .dataframe tbody tr th:only-of-type {\n",
       "        vertical-align: middle;\n",
       "    }\n",
       "\n",
       "    .dataframe tbody tr th {\n",
       "        vertical-align: top;\n",
       "    }\n",
       "\n",
       "    .dataframe thead th {\n",
       "        text-align: right;\n",
       "    }\n",
       "</style>\n",
       "<table border=\"1\" class=\"dataframe\">\n",
       "  <thead>\n",
       "    <tr style=\"text-align: right;\">\n",
       "      <th></th>\n",
       "      <th>item_category_name</th>\n",
       "      <th>item_category_id</th>\n",
       "    </tr>\n",
       "  </thead>\n",
       "  <tbody>\n",
       "    <tr>\n",
       "      <th>0</th>\n",
       "      <td>PC - Гарнитуры/Наушники</td>\n",
       "      <td>0</td>\n",
       "    </tr>\n",
       "    <tr>\n",
       "      <th>1</th>\n",
       "      <td>Аксессуары - PS2</td>\n",
       "      <td>1</td>\n",
       "    </tr>\n",
       "    <tr>\n",
       "      <th>2</th>\n",
       "      <td>Аксессуары - PS3</td>\n",
       "      <td>2</td>\n",
       "    </tr>\n",
       "    <tr>\n",
       "      <th>3</th>\n",
       "      <td>Аксессуары - PS4</td>\n",
       "      <td>3</td>\n",
       "    </tr>\n",
       "    <tr>\n",
       "      <th>4</th>\n",
       "      <td>Аксессуары - PSP</td>\n",
       "      <td>4</td>\n",
       "    </tr>\n",
       "  </tbody>\n",
       "</table>\n",
       "</div>"
      ],
      "text/plain": [
       "        item_category_name  item_category_id\n",
       "0  PC - Гарнитуры/Наушники                 0\n",
       "1         Аксессуары - PS2                 1\n",
       "2         Аксессуары - PS3                 2\n",
       "3         Аксессуары - PS4                 3\n",
       "4         Аксессуары - PSP                 4"
      ]
     },
     "execution_count": 7,
     "metadata": {},
     "output_type": "execute_result"
    }
   ],
   "source": [
    "item_categories.head()"
   ]
  },
  {
   "cell_type": "code",
   "execution_count": 8,
   "metadata": {},
   "outputs": [
    {
     "data": {
      "text/html": [
       "<div>\n",
       "<style scoped>\n",
       "    .dataframe tbody tr th:only-of-type {\n",
       "        vertical-align: middle;\n",
       "    }\n",
       "\n",
       "    .dataframe tbody tr th {\n",
       "        vertical-align: top;\n",
       "    }\n",
       "\n",
       "    .dataframe thead th {\n",
       "        text-align: right;\n",
       "    }\n",
       "</style>\n",
       "<table border=\"1\" class=\"dataframe\">\n",
       "  <thead>\n",
       "    <tr style=\"text-align: right;\">\n",
       "      <th></th>\n",
       "      <th>ID</th>\n",
       "      <th>shop_id</th>\n",
       "      <th>item_id</th>\n",
       "    </tr>\n",
       "  </thead>\n",
       "  <tbody>\n",
       "    <tr>\n",
       "      <th>0</th>\n",
       "      <td>0</td>\n",
       "      <td>5</td>\n",
       "      <td>5037</td>\n",
       "    </tr>\n",
       "    <tr>\n",
       "      <th>1</th>\n",
       "      <td>1</td>\n",
       "      <td>5</td>\n",
       "      <td>5320</td>\n",
       "    </tr>\n",
       "    <tr>\n",
       "      <th>2</th>\n",
       "      <td>2</td>\n",
       "      <td>5</td>\n",
       "      <td>5233</td>\n",
       "    </tr>\n",
       "    <tr>\n",
       "      <th>3</th>\n",
       "      <td>3</td>\n",
       "      <td>5</td>\n",
       "      <td>5232</td>\n",
       "    </tr>\n",
       "    <tr>\n",
       "      <th>4</th>\n",
       "      <td>4</td>\n",
       "      <td>5</td>\n",
       "      <td>5268</td>\n",
       "    </tr>\n",
       "  </tbody>\n",
       "</table>\n",
       "</div>"
      ],
      "text/plain": [
       "   ID  shop_id  item_id\n",
       "0   0        5     5037\n",
       "1   1        5     5320\n",
       "2   2        5     5233\n",
       "3   3        5     5232\n",
       "4   4        5     5268"
      ]
     },
     "execution_count": 8,
     "metadata": {},
     "output_type": "execute_result"
    }
   ],
   "source": [
    "test.head()"
   ]
  },
  {
   "cell_type": "code",
   "execution_count": 9,
   "metadata": {},
   "outputs": [
    {
     "data": {
      "text/html": [
       "<div>\n",
       "<style scoped>\n",
       "    .dataframe tbody tr th:only-of-type {\n",
       "        vertical-align: middle;\n",
       "    }\n",
       "\n",
       "    .dataframe tbody tr th {\n",
       "        vertical-align: top;\n",
       "    }\n",
       "\n",
       "    .dataframe thead th {\n",
       "        text-align: right;\n",
       "    }\n",
       "</style>\n",
       "<table border=\"1\" class=\"dataframe\">\n",
       "  <thead>\n",
       "    <tr style=\"text-align: right;\">\n",
       "      <th></th>\n",
       "      <th>ID</th>\n",
       "      <th>item_cnt_month</th>\n",
       "    </tr>\n",
       "  </thead>\n",
       "  <tbody>\n",
       "    <tr>\n",
       "      <th>0</th>\n",
       "      <td>0</td>\n",
       "      <td>0.5</td>\n",
       "    </tr>\n",
       "    <tr>\n",
       "      <th>1</th>\n",
       "      <td>1</td>\n",
       "      <td>0.5</td>\n",
       "    </tr>\n",
       "    <tr>\n",
       "      <th>2</th>\n",
       "      <td>2</td>\n",
       "      <td>0.5</td>\n",
       "    </tr>\n",
       "    <tr>\n",
       "      <th>3</th>\n",
       "      <td>3</td>\n",
       "      <td>0.5</td>\n",
       "    </tr>\n",
       "    <tr>\n",
       "      <th>4</th>\n",
       "      <td>4</td>\n",
       "      <td>0.5</td>\n",
       "    </tr>\n",
       "  </tbody>\n",
       "</table>\n",
       "</div>"
      ],
      "text/plain": [
       "   ID  item_cnt_month\n",
       "0   0             0.5\n",
       "1   1             0.5\n",
       "2   2             0.5\n",
       "3   3             0.5\n",
       "4   4             0.5"
      ]
     },
     "execution_count": 9,
     "metadata": {},
     "output_type": "execute_result"
    }
   ],
   "source": [
    "sample_submission.head()"
   ]
  },
  {
   "cell_type": "code",
   "execution_count": 10,
   "metadata": {},
   "outputs": [
    {
     "name": "stdout",
     "output_type": "stream",
     "text": [
      "----------Top-5- Record----------\n",
      "        date  date_block_num  shop_id  item_id  item_price  item_cnt_day\n",
      "0 2013-02-01               0       59    22154      999.00           1.0\n",
      "1 2013-03-01               0       25     2552      899.00           1.0\n",
      "2 2013-05-01               0       25     2552      899.00          -1.0\n",
      "3 2013-06-01               0       25     2554     1709.05           1.0\n",
      "4 2013-01-15               0       25     2555     1099.00           1.0\n",
      "-----------Information-----------\n",
      "<class 'pandas.core.frame.DataFrame'>\n",
      "RangeIndex: 2935849 entries, 0 to 2935848\n",
      "Data columns (total 6 columns):\n",
      "date              datetime64[ns]\n",
      "date_block_num    int64\n",
      "shop_id           int64\n",
      "item_id           int64\n",
      "item_price        float64\n",
      "item_cnt_day      float64\n",
      "dtypes: datetime64[ns](1), float64(2), int64(3)\n",
      "memory usage: 134.4 MB\n",
      "None\n",
      "-----------Data Types-----------\n",
      "date              datetime64[ns]\n",
      "date_block_num             int64\n",
      "shop_id                    int64\n",
      "item_id                    int64\n",
      "item_price               float64\n",
      "item_cnt_day             float64\n",
      "dtype: object\n",
      "----------Missing value-----------\n",
      "date              0\n",
      "date_block_num    0\n",
      "shop_id           0\n",
      "item_id           0\n",
      "item_price        0\n",
      "item_cnt_day      0\n",
      "dtype: int64\n",
      "----------Null value-----------\n",
      "date              0\n",
      "date_block_num    0\n",
      "shop_id           0\n",
      "item_id           0\n",
      "item_price        0\n",
      "item_cnt_day      0\n",
      "dtype: int64\n",
      "----------Shape of Data----------\n",
      "(2935849, 6)\n",
      "Number of duplicates: 6\n"
     ]
    }
   ],
   "source": [
    "## Data Time Range\n",
    "\n",
    "# EDA1\n",
    "## head\n",
    "## Info\n",
    "## Data type\n",
    "## Missing value\n",
    "## Null Value\n",
    "## Shape of data\n",
    "## Duplicate\n",
    "print(\"----------Top-5- Record----------\")\n",
    "print(sales_train.head(5))\n",
    "print(\"-----------Information-----------\")\n",
    "print(sales_train.info())\n",
    "print(\"-----------Data Types-----------\")\n",
    "print(sales_train.dtypes)\n",
    "print(\"----------Missing value-----------\")\n",
    "print(sales_train.isnull().sum())\n",
    "print(\"----------Null value-----------\")\n",
    "print(sales_train.isna().sum())\n",
    "print(\"----------Shape of Data----------\")\n",
    "print(sales_train.shape)\n",
    "print('Number of duplicates:', len(sales_train[sales_train.duplicated()]))\n"
   ]
  },
  {
   "cell_type": "code",
   "execution_count": 11,
   "metadata": {},
   "outputs": [
    {
     "name": "stdout",
     "output_type": "stream",
     "text": [
      "<class 'pandas.core.frame.DataFrame'>\n",
      "RangeIndex: 2935849 entries, 0 to 2935848\n",
      "Data columns (total 6 columns):\n",
      "date              datetime64[ns]\n",
      "date_block_num    int16\n",
      "shop_id           int16\n",
      "item_id           int16\n",
      "item_price        float32\n",
      "item_cnt_day      float32\n",
      "dtypes: datetime64[ns](1), float32(2), int16(3)\n",
      "memory usage: 61.6 MB\n",
      "None\n"
     ]
    }
   ],
   "source": [
    "# Downcasting\n",
    "## int64, int32 → int16\n",
    "## float64 → int32\n",
    "def downcast_dtypes(df):\n",
    "    float_cols = [c for c in df if df[c].dtype == \"float64\"]\n",
    "    int_cols = [c for c in df if df[c].dtype in [\"int64\", \"int32\"]]\n",
    "    df[float_cols] = df[float_cols].astype(np.float32)\n",
    "    df[int_cols] = df[int_cols].astype(np.int16)\n",
    "    return df\n",
    "\n",
    "sales_train = downcast_dtypes(sales_train)\n",
    "print(sales_train.info())\n"
   ]
  },
  {
   "cell_type": "code",
   "execution_count": 12,
   "metadata": {},
   "outputs": [],
   "source": [
    "## Date Attribute\n",
    "sales_train[\"year\"] = pd.to_datetime(sales_train[\"date\"]).dt.year\n",
    "sales_train[\"month\"] = pd.to_datetime(sales_train[\"date\"]).dt.month\n",
    "sales_train[\"day\"] = pd.to_datetime(sales_train[\"date\"]).dt.day\n"
   ]
  },
  {
   "cell_type": "code",
   "execution_count": 13,
   "metadata": {},
   "outputs": [
    {
     "data": {
      "image/png": "[encoded data removed]",
      "text/plain": [
       "<matplotlib.figure.Figure at 0x1125ca898>"
      ]
     },
     "metadata": {},
     "output_type": "display_data"
    }
   ],
   "source": [
    "## Plot target(by Time Series)\n",
    "\n",
    "revenueByDate = pd.DataFrame(sales_train.groupby('date', as_index=False)['item_cnt_day'].sum())\n",
    "plt.plot( \"date\", \"item_cnt_day\", data = revenueByDate.sort_values(by=\"date\"))\n",
    "plt.xticks(rotation=45)\n",
    "plt.show()\n"
   ]
  },
  {
   "cell_type": "code",
   "execution_count": 14,
   "metadata": {},
   "outputs": [
    {
     "data": {
      "image/png": "[encoded data removed]",
      "text/plain": [
       "<matplotlib.figure.Figure at 0x10c3aa128>"
      ]
     },
     "metadata": {},
     "output_type": "display_data"
    },
    {
     "data": {
      "image/png": "[encoded data removed]",
      "text/plain": [
       "<matplotlib.figure.Figure at 0x10c3ca518>"
      ]
     },
     "metadata": {},
     "output_type": "display_data"
    },
    {
     "data": {
      "image/png": "[encoded data removed]",
      "text/plain": [
       "<matplotlib.figure.Figure at 0x10fefdc18>"
      ]
     },
     "metadata": {},
     "output_type": "display_data"
    }
   ],
   "source": [
    "revenueByYear = pd.DataFrame(sales_train.groupby('year', as_index=False)['item_cnt_day'].sum())\n",
    "plt.plot( \"year\", \"item_cnt_day\", data = revenueByYear.sort_values(by=\"year\"))\n",
    "plt.xticks(rotation=45)\n",
    "plt.show()\n",
    "\n",
    "revenueByMonth = pd.DataFrame(sales_train.groupby('month', as_index=False)['item_cnt_day'].sum())\n",
    "plt.plot( \"month\", \"item_cnt_day\", data = revenueByMonth.sort_values(by=\"month\"))\n",
    "plt.xticks(rotation=45)\n",
    "plt.show()\n",
    "\n",
    "revenueByDay = pd.DataFrame(sales_train.groupby('day', as_index=False)['item_cnt_day'].sum())\n",
    "plt.plot( \"day\", \"item_cnt_day\", data = revenueByDay.sort_values(by=\"day\"))\n",
    "plt.xticks(rotation=45)\n",
    "plt.show()"
   ]
  },
  {
   "cell_type": "code",
   "execution_count": 15,
   "metadata": {
    "scrolled": false
   },
   "outputs": [
    {
     "data": {
      "image/png": "[encoded data removed]",
      "text/plain": [
       "<matplotlib.figure.Figure at 0x1125e24e0>"
      ]
     },
     "metadata": {},
     "output_type": "display_data"
    },
    {
     "data": {
      "image/png": "[encoded data removed]",
      "text/plain": [
       "<matplotlib.figure.Figure at 0x112d39e48>"
      ]
     },
     "metadata": {},
     "output_type": "display_data"
    },
    {
     "data": {
      "image/png": "[encoded data removed]",
      "text/plain": [
       "<matplotlib.figure.Figure at 0x112feb940>"
      ]
     },
     "metadata": {},
     "output_type": "display_data"
    }
   ],
   "source": [
    "revenueByYear = pd.DataFrame(sales_train.groupby('year', as_index=False)['item_cnt_day'].mean())\n",
    "plt.plot( \"year\", \"item_cnt_day\", data = revenueByYear.sort_values(by=\"year\"))\n",
    "plt.xticks(rotation=45)\n",
    "plt.show()\n",
    "\n",
    "revenueByMonth = pd.DataFrame(sales_train.groupby('month', as_index=False)['item_cnt_day'].mean())\n",
    "plt.plot( \"month\", \"item_cnt_day\", data = revenueByMonth.sort_values(by=\"month\"))\n",
    "plt.xticks(rotation=45)\n",
    "plt.show()\n",
    "\n",
    "revenueByDay = pd.DataFrame(sales_train.groupby('day', as_index=False)['item_cnt_day'].mean())\n",
    "plt.plot( \"day\", \"item_cnt_day\", data = revenueByDay.sort_values(by=\"day\"))\n",
    "plt.xticks(rotation=45)\n",
    "plt.show()"
   ]
  },
  {
   "cell_type": "code",
   "execution_count": 16,
   "metadata": {},
   "outputs": [
    {
     "data": {
      "image/png": "[encoded data removed]",
      "text/plain": [
       "<matplotlib.figure.Figure at 0x11309b7b8>"
      ]
     },
     "metadata": {},
     "output_type": "display_data"
    },
    {
     "data": {
      "image/png": "[encoded data removed]",
      "text/plain": [
       "<matplotlib.figure.Figure at 0x112f123c8>"
      ]
     },
     "metadata": {},
     "output_type": "display_data"
    },
    {
     "data": {
      "image/png": "[encoded data removed]",
      "text/plain": [
       "<matplotlib.figure.Figure at 0x112c5f7b8>"
      ]
     },
     "metadata": {},
     "output_type": "display_data"
    }
   ],
   "source": [
    "revenueByYear = pd.DataFrame(sales_train.groupby('year', as_index=False)['item_cnt_day'].var())\n",
    "plt.plot( \"year\", \"item_cnt_day\", data = revenueByYear.sort_values(by=\"year\"))\n",
    "plt.xticks(rotation=45)\n",
    "plt.show()\n",
    "\n",
    "revenueByMonth = pd.DataFrame(sales_train.groupby('month', as_index=False)['item_cnt_day'].var())\n",
    "plt.plot( \"month\", \"item_cnt_day\", data = revenueByMonth.sort_values(by=\"month\"))\n",
    "plt.xticks(rotation=45)\n",
    "plt.show()\n",
    "\n",
    "revenueByDay = pd.DataFrame(sales_train.groupby('day', as_index=False)['item_cnt_day'].var())\n",
    "plt.plot( \"day\", \"item_cnt_day\", data = revenueByDay.sort_values(by=\"day\"))\n",
    "plt.xticks(rotation=45)\n",
    "plt.show()"
   ]
  },
  {
   "cell_type": "code",
   "execution_count": 17,
   "metadata": {},
   "outputs": [
    {
     "name": "stdout",
     "output_type": "stream",
     "text": [
      "Not exists in month 6 [ 9 11 20 33 34 36 39 40 48 49]\n",
      "Not exists in month 7 [ 9 11 20 33 34 36 39 40 48 49]\n",
      "Not exists in month 8 [ 9 11 20 33 34 36 39 40 48 49]\n",
      "Not exists in month 9 [11 20 33 34 36 39 40 48 49]\n",
      "Not exists in month 10 [11 20 33 34 36 39 40 48 49]\n",
      "Not exists in month 11 [11 20 33 34 36 39 40 48]\n",
      "Not exists in month 12 [11 20 33 34 36 39 40 48]\n",
      "Not exists in month 13 [11 20 33 34 36 39 40 48]\n",
      "Not exists in month 14 [11 20 33 34 36 48]\n",
      "Not exists in month 15 [11 20 33 34 36]\n",
      "Not exists in month 16 [11 20 33 34 36]\n",
      "Not exists in month 17 [11 20 33 34 36]\n",
      "Not exists in month 18 [11 20 33 36]\n",
      "Not exists in month 19 [11 20 36]\n",
      "Not exists in month 20 [11 20 36]\n",
      "Not exists in month 21 [11 36]\n",
      "Not exists in month 22 [11 36]\n",
      "Not exists in month 23 [11 36]\n",
      "Not exists in month 24 [11 36]\n",
      "Not exists in month 25 [36]\n",
      "Not exists in month 26 [36]\n",
      "Not exists in month 27 [36]\n",
      "Not exists in month 28 [36]\n",
      "Not exists in month 29 [36]\n",
      "Not exists in month 30 [36]\n",
      "Not exists in month 31 [36]\n",
      "Not exists in month 32 [36]\n",
      "Not exists in month 33 []\n",
      "Shop is outdated for month 6 [ 0  1  8 23]\n",
      "Shop is outdated for month 7 [ 0  1  8 23 32]\n",
      "Shop is outdated for month 8 [ 0  1  8 23 32]\n",
      "Shop is outdated for month 9 [ 0  1  8 23 32]\n",
      "Shop is outdated for month 10 [ 0  1  8 23 32]\n",
      "Shop is outdated for month 11 [ 0  1  8 23 32]\n",
      "Shop is outdated for month 12 [ 0  1  8 23 32]\n",
      "Shop is outdated for month 13 [ 0  1  8 23 32]\n",
      "Shop is outdated for month 14 [ 0  1  8 23 32]\n",
      "Shop is outdated for month 15 [ 0  1  8 23 32]\n",
      "Shop is outdated for month 16 [ 0  1  8 23 32]\n",
      "Shop is outdated for month 17 [ 0  1  8 23 32]\n",
      "Shop is outdated for month 18 [ 0  1  8 23 32]\n",
      "Shop is outdated for month 19 [ 0  1  8 23 32]\n",
      "Shop is outdated for month 20 [ 0  1  8 13 23 32]\n",
      "Shop is outdated for month 21 [ 0  1  8 13 23 32]\n",
      "Shop is outdated for month 22 [ 0  1  8 13 23 32]\n",
      "Shop is outdated for month 23 [ 0  1  8 13 23 32]\n",
      "Shop is outdated for month 24 [ 0  1  8 13 23 32]\n",
      "Shop is outdated for month 25 [ 0  1  8 13 17 23 32 40 43]\n",
      "Shop is outdated for month 26 [ 0  1  8 11 13 17 23 30 32 40 43]\n",
      "Shop is outdated for month 27 [ 0  1  8 11 13 17 23 30 32 40 43]\n",
      "Shop is outdated for month 28 [ 0  1  8 11 13 17 23 30 32 33 40 43 54]\n",
      "Shop is outdated for month 29 [ 0  1  8 11 13 17 23 29 30 32 33 40 43 54]\n",
      "Shop is outdated for month 30 [ 0  1  8 11 13 17 23 29 30 32 33 40 43 54]\n",
      "Shop is outdated for month 31 [ 0  1  8 11 13 17 23 29 30 32 33 40 43 54]\n",
      "Shop is outdated for month 32 [ 0  1  8 11 13 17 23 29 30 32 33 40 43 54]\n",
      "Shop is outdated for month 33 [ 0  1  8 11 13 17 23 27 29 30 32 33 40 43 51 54]\n"
     ]
    }
   ],
   "source": [
    "## Outdated product/shop\n",
    "### Confirm train\n",
    "### Confirm test\n",
    "sales_by_shop_id = sales_train.pivot_table(index=['shop_id'],values=['item_cnt_day'], \n",
    "                                        columns='date_block_num', aggfunc=np.sum, fill_value=0).reset_index()\n",
    "sales_by_shop_id.columns = sales_by_shop_id.columns.droplevel().map(str)\n",
    "sales_by_shop_id = sales_by_shop_id.reset_index(drop=True).rename_axis(None, axis=1)\n",
    "sales_by_shop_id.columns.values[0] = 'shop_id'\n",
    "\n",
    "for i in range(6,34):\n",
    "    print('Not exists in month',i,sales_by_shop_id['shop_id'][sales_by_shop_id.loc[:,'0':str(i)].sum(axis=1)==0].unique())\n",
    "\n",
    "for i in range(6,34):\n",
    "    print('Shop is outdated for month',i,sales_by_shop_id['shop_id'][sales_by_shop_id.loc[:,str(i):].sum(axis=1)==0].unique())\n"
   ]
  },
  {
   "cell_type": "code",
   "execution_count": 18,
   "metadata": {},
   "outputs": [
    {
     "data": {
      "text/plain": [
       "<seaborn.axisgrid.FacetGrid at 0x10c391d68>"
      ]
     },
     "execution_count": 18,
     "metadata": {},
     "output_type": "execute_result"
    },
    {
     "data": {
      "image/png": "[encoded data removed]",
      "text/plain": [
       "<matplotlib.figure.Figure at 0x10c3d3898>"
      ]
     },
     "metadata": {},
     "output_type": "display_data"
    }
   ],
   "source": [
    "## Plot Each year\n",
    "\n",
    "monthlyRev = pd.DataFrame(sales_train.groupby([\"month\", \"year\"], as_index=False)[\"item_cnt_day\"].sum())\n",
    "monthlyRev.head()\n",
    "\n",
    "g = sns.FacetGrid(data = monthlyRev.sort_values(by=\"month\"), hue = \"year\", size = 5, legend_out=True)\n",
    "g = g.map(plt.plot, \"month\", \"item_cnt_day\")\n",
    "g.add_legend()\n",
    "g"
   ]
  },
  {
   "cell_type": "code",
   "execution_count": 19,
   "metadata": {},
   "outputs": [
    {
     "data": {
      "text/plain": [
       "<matplotlib.axes._subplots.AxesSubplot at 0x112c93668>"
      ]
     },
     "execution_count": 19,
     "metadata": {},
     "output_type": "execute_result"
    },
    {
     "data": {
      "image/png": "[encoded data removed]",
      "text/plain": [
       "<matplotlib.figure.Figure at 0x112ff98d0>"
      ]
     },
     "metadata": {},
     "output_type": "display_data"
    },
    {
     "data": {
      "image/png": "[encoded data removed]",
      "text/plain": [
       "<matplotlib.figure.Figure at 0x112f03080>"
      ]
     },
     "metadata": {},
     "output_type": "display_data"
    }
   ],
   "source": [
    "plt.figure(figsize=(10,4))\n",
    "plt.xlim(-100, 3000)\n",
    "sns.boxplot(x=sales_train['item_cnt_day'])\n",
    "\n",
    "plt.figure(figsize=(10,4))\n",
    "plt.xlim(sales_train['item_price'].min(), sales_train['item_price'].max())\n",
    "sns.boxplot(x=sales_train['item_price'])\n"
   ]
  },
  {
   "cell_type": "code",
   "execution_count": 20,
   "metadata": {},
   "outputs": [
    {
     "name": "stdout",
     "output_type": "stream",
     "text": [
      "Sale volume outliers: [ 8057 20949  9242 19437  3731 11373  9249  9248]\n",
      "Item price outliers: [11365  6066 13199]\n"
     ]
    }
   ],
   "source": [
    "print('Sale volume outliers:',sales_train['item_id'][sales_train['item_cnt_day']>500].unique())\n",
    "print('Item price outliers:',sales_train['item_id'][sales_train['item_price']>50000].unique())"
   ]
  },
  {
   "cell_type": "code",
   "execution_count": 21,
   "metadata": {},
   "outputs": [],
   "source": [
    "# 外れ値の削除\n",
    "sales_train = sales_train[sales_train.item_cnt_day<500]\n",
    "sales_train = sales_train[sales_train.item_price<50000]"
   ]
  },
  {
   "cell_type": "code",
   "execution_count": 22,
   "metadata": {},
   "outputs": [],
   "source": [
    "monthlyRev_sum = pd.DataFrame(sales_train.groupby([\"shop_id\", \"item_id\",\"year\",\"month\"], as_index=False)[\"item_cnt_day\"].sum())\n",
    "monthlyRev_avg = pd.DataFrame(sales_train.groupby([\"shop_id\", \"item_id\",\"year\",\"month\"], as_index=False)[\"item_cnt_day\"].mean())"
   ]
  },
  {
   "cell_type": "code",
   "execution_count": 23,
   "metadata": {},
   "outputs": [
    {
     "data": {
      "text/html": [
       "<div>\n",
       "<style scoped>\n",
       "    .dataframe tbody tr th:only-of-type {\n",
       "        vertical-align: middle;\n",
       "    }\n",
       "\n",
       "    .dataframe tbody tr th {\n",
       "        vertical-align: top;\n",
       "    }\n",
       "\n",
       "    .dataframe thead th {\n",
       "        text-align: right;\n",
       "    }\n",
       "</style>\n",
       "<table border=\"1\" class=\"dataframe\">\n",
       "  <thead>\n",
       "    <tr style=\"text-align: right;\">\n",
       "      <th></th>\n",
       "      <th>shop_id</th>\n",
       "      <th>item_id</th>\n",
       "      <th>year</th>\n",
       "      <th>month</th>\n",
       "      <th>item_cnt_day</th>\n",
       "    </tr>\n",
       "  </thead>\n",
       "  <tbody>\n",
       "    <tr>\n",
       "      <th>0</th>\n",
       "      <td>0</td>\n",
       "      <td>30</td>\n",
       "      <td>2013</td>\n",
       "      <td>2</td>\n",
       "      <td>31.0</td>\n",
       "    </tr>\n",
       "    <tr>\n",
       "      <th>1</th>\n",
       "      <td>0</td>\n",
       "      <td>31</td>\n",
       "      <td>2013</td>\n",
       "      <td>2</td>\n",
       "      <td>11.0</td>\n",
       "    </tr>\n",
       "    <tr>\n",
       "      <th>2</th>\n",
       "      <td>0</td>\n",
       "      <td>32</td>\n",
       "      <td>2013</td>\n",
       "      <td>1</td>\n",
       "      <td>4.0</td>\n",
       "    </tr>\n",
       "    <tr>\n",
       "      <th>3</th>\n",
       "      <td>0</td>\n",
       "      <td>32</td>\n",
       "      <td>2013</td>\n",
       "      <td>2</td>\n",
       "      <td>6.0</td>\n",
       "    </tr>\n",
       "    <tr>\n",
       "      <th>4</th>\n",
       "      <td>0</td>\n",
       "      <td>32</td>\n",
       "      <td>2013</td>\n",
       "      <td>3</td>\n",
       "      <td>2.0</td>\n",
       "    </tr>\n",
       "  </tbody>\n",
       "</table>\n",
       "</div>"
      ],
      "text/plain": [
       "   shop_id  item_id  year  month  item_cnt_day\n",
       "0        0       30  2013      2          31.0\n",
       "1        0       31  2013      2          11.0\n",
       "2        0       32  2013      1           4.0\n",
       "3        0       32  2013      2           6.0\n",
       "4        0       32  2013      3           2.0"
      ]
     },
     "execution_count": 23,
     "metadata": {},
     "output_type": "execute_result"
    }
   ],
   "source": [
    "monthlyRev_sum.head()"
   ]
  },
  {
   "cell_type": "code",
   "execution_count": 24,
   "metadata": {},
   "outputs": [
    {
     "data": {
      "text/html": [
       "<div>\n",
       "<style scoped>\n",
       "    .dataframe tbody tr th:only-of-type {\n",
       "        vertical-align: middle;\n",
       "    }\n",
       "\n",
       "    .dataframe tbody tr th {\n",
       "        vertical-align: top;\n",
       "    }\n",
       "\n",
       "    .dataframe thead th {\n",
       "        text-align: right;\n",
       "    }\n",
       "</style>\n",
       "<table border=\"1\" class=\"dataframe\">\n",
       "  <thead>\n",
       "    <tr style=\"text-align: right;\">\n",
       "      <th></th>\n",
       "      <th>shop_id</th>\n",
       "      <th>item_id</th>\n",
       "      <th>year</th>\n",
       "      <th>month</th>\n",
       "      <th>item_cnt_day</th>\n",
       "    </tr>\n",
       "  </thead>\n",
       "  <tbody>\n",
       "    <tr>\n",
       "      <th>0</th>\n",
       "      <td>0</td>\n",
       "      <td>30</td>\n",
       "      <td>2013</td>\n",
       "      <td>2</td>\n",
       "      <td>3.444444</td>\n",
       "    </tr>\n",
       "    <tr>\n",
       "      <th>1</th>\n",
       "      <td>0</td>\n",
       "      <td>31</td>\n",
       "      <td>2013</td>\n",
       "      <td>2</td>\n",
       "      <td>1.571429</td>\n",
       "    </tr>\n",
       "    <tr>\n",
       "      <th>2</th>\n",
       "      <td>0</td>\n",
       "      <td>32</td>\n",
       "      <td>2013</td>\n",
       "      <td>1</td>\n",
       "      <td>1.333333</td>\n",
       "    </tr>\n",
       "    <tr>\n",
       "      <th>3</th>\n",
       "      <td>0</td>\n",
       "      <td>32</td>\n",
       "      <td>2013</td>\n",
       "      <td>2</td>\n",
       "      <td>1.500000</td>\n",
       "    </tr>\n",
       "    <tr>\n",
       "      <th>4</th>\n",
       "      <td>0</td>\n",
       "      <td>32</td>\n",
       "      <td>2013</td>\n",
       "      <td>3</td>\n",
       "      <td>2.000000</td>\n",
       "    </tr>\n",
       "  </tbody>\n",
       "</table>\n",
       "</div>"
      ],
      "text/plain": [
       "   shop_id  item_id  year  month  item_cnt_day\n",
       "0        0       30  2013      2      3.444444\n",
       "1        0       31  2013      2      1.571429\n",
       "2        0       32  2013      1      1.333333\n",
       "3        0       32  2013      2      1.500000\n",
       "4        0       32  2013      3      2.000000"
      ]
     },
     "execution_count": 24,
     "metadata": {},
     "output_type": "execute_result"
    }
   ],
   "source": [
    "monthlyRev_avg.head()"
   ]
  },
  {
   "cell_type": "code",
   "execution_count": 25,
   "metadata": {},
   "outputs": [],
   "source": [
    "monthlyPri_sum = pd.DataFrame(sales_train.groupby([\"shop_id\", \"item_id\",\"year\",\"month\"], as_index=False)[\"item_price\"].sum())\n",
    "monthlyPri_avg = pd.DataFrame(sales_train.groupby([\"shop_id\", \"item_id\",\"year\",\"month\"], as_index=False)[\"item_price\"].mean())"
   ]
  },
  {
   "cell_type": "code",
   "execution_count": 26,
   "metadata": {},
   "outputs": [
    {
     "data": {
      "text/html": [
       "<div>\n",
       "<style scoped>\n",
       "    .dataframe tbody tr th:only-of-type {\n",
       "        vertical-align: middle;\n",
       "    }\n",
       "\n",
       "    .dataframe tbody tr th {\n",
       "        vertical-align: top;\n",
       "    }\n",
       "\n",
       "    .dataframe thead th {\n",
       "        text-align: right;\n",
       "    }\n",
       "</style>\n",
       "<table border=\"1\" class=\"dataframe\">\n",
       "  <thead>\n",
       "    <tr style=\"text-align: right;\">\n",
       "      <th></th>\n",
       "      <th>shop_id</th>\n",
       "      <th>item_id</th>\n",
       "      <th>year</th>\n",
       "      <th>month</th>\n",
       "      <th>item_price</th>\n",
       "    </tr>\n",
       "  </thead>\n",
       "  <tbody>\n",
       "    <tr>\n",
       "      <th>0</th>\n",
       "      <td>0</td>\n",
       "      <td>30</td>\n",
       "      <td>2013</td>\n",
       "      <td>2</td>\n",
       "      <td>2385.0</td>\n",
       "    </tr>\n",
       "    <tr>\n",
       "      <th>1</th>\n",
       "      <td>0</td>\n",
       "      <td>31</td>\n",
       "      <td>2013</td>\n",
       "      <td>2</td>\n",
       "      <td>3038.0</td>\n",
       "    </tr>\n",
       "    <tr>\n",
       "      <th>2</th>\n",
       "      <td>0</td>\n",
       "      <td>32</td>\n",
       "      <td>2013</td>\n",
       "      <td>1</td>\n",
       "      <td>663.0</td>\n",
       "    </tr>\n",
       "    <tr>\n",
       "      <th>3</th>\n",
       "      <td>0</td>\n",
       "      <td>32</td>\n",
       "      <td>2013</td>\n",
       "      <td>2</td>\n",
       "      <td>884.0</td>\n",
       "    </tr>\n",
       "    <tr>\n",
       "      <th>4</th>\n",
       "      <td>0</td>\n",
       "      <td>32</td>\n",
       "      <td>2013</td>\n",
       "      <td>3</td>\n",
       "      <td>221.0</td>\n",
       "    </tr>\n",
       "  </tbody>\n",
       "</table>\n",
       "</div>"
      ],
      "text/plain": [
       "   shop_id  item_id  year  month  item_price\n",
       "0        0       30  2013      2      2385.0\n",
       "1        0       31  2013      2      3038.0\n",
       "2        0       32  2013      1       663.0\n",
       "3        0       32  2013      2       884.0\n",
       "4        0       32  2013      3       221.0"
      ]
     },
     "execution_count": 26,
     "metadata": {},
     "output_type": "execute_result"
    }
   ],
   "source": [
    "monthlyPri_sum.head()"
   ]
  },
  {
   "cell_type": "code",
   "execution_count": 27,
   "metadata": {},
   "outputs": [
    {
     "data": {
      "text/html": [
       "<div>\n",
       "<style scoped>\n",
       "    .dataframe tbody tr th:only-of-type {\n",
       "        vertical-align: middle;\n",
       "    }\n",
       "\n",
       "    .dataframe tbody tr th {\n",
       "        vertical-align: top;\n",
       "    }\n",
       "\n",
       "    .dataframe thead th {\n",
       "        text-align: right;\n",
       "    }\n",
       "</style>\n",
       "<table border=\"1\" class=\"dataframe\">\n",
       "  <thead>\n",
       "    <tr style=\"text-align: right;\">\n",
       "      <th></th>\n",
       "      <th>shop_id</th>\n",
       "      <th>item_id</th>\n",
       "      <th>year</th>\n",
       "      <th>month</th>\n",
       "      <th>item_price</th>\n",
       "    </tr>\n",
       "  </thead>\n",
       "  <tbody>\n",
       "    <tr>\n",
       "      <th>0</th>\n",
       "      <td>0</td>\n",
       "      <td>30</td>\n",
       "      <td>2013</td>\n",
       "      <td>2</td>\n",
       "      <td>265.0</td>\n",
       "    </tr>\n",
       "    <tr>\n",
       "      <th>1</th>\n",
       "      <td>0</td>\n",
       "      <td>31</td>\n",
       "      <td>2013</td>\n",
       "      <td>2</td>\n",
       "      <td>434.0</td>\n",
       "    </tr>\n",
       "    <tr>\n",
       "      <th>2</th>\n",
       "      <td>0</td>\n",
       "      <td>32</td>\n",
       "      <td>2013</td>\n",
       "      <td>1</td>\n",
       "      <td>221.0</td>\n",
       "    </tr>\n",
       "    <tr>\n",
       "      <th>3</th>\n",
       "      <td>0</td>\n",
       "      <td>32</td>\n",
       "      <td>2013</td>\n",
       "      <td>2</td>\n",
       "      <td>221.0</td>\n",
       "    </tr>\n",
       "    <tr>\n",
       "      <th>4</th>\n",
       "      <td>0</td>\n",
       "      <td>32</td>\n",
       "      <td>2013</td>\n",
       "      <td>3</td>\n",
       "      <td>221.0</td>\n",
       "    </tr>\n",
       "  </tbody>\n",
       "</table>\n",
       "</div>"
      ],
      "text/plain": [
       "   shop_id  item_id  year  month  item_price\n",
       "0        0       30  2013      2       265.0\n",
       "1        0       31  2013      2       434.0\n",
       "2        0       32  2013      1       221.0\n",
       "3        0       32  2013      2       221.0\n",
       "4        0       32  2013      3       221.0"
      ]
     },
     "execution_count": 27,
     "metadata": {},
     "output_type": "execute_result"
    }
   ],
   "source": [
    "monthlyPri_avg.head()"
   ]
  },
  {
   "cell_type": "code",
   "execution_count": 28,
   "metadata": {},
   "outputs": [],
   "source": [
    "sales_train =  pd.merge(sales_train, items, on=[\"item_id\"], how='inner')"
   ]
  },
  {
   "cell_type": "code",
   "execution_count": 29,
   "metadata": {},
   "outputs": [
    {
     "data": {
      "text/html": [
       "<div>\n",
       "<style scoped>\n",
       "    .dataframe tbody tr th:only-of-type {\n",
       "        vertical-align: middle;\n",
       "    }\n",
       "\n",
       "    .dataframe tbody tr th {\n",
       "        vertical-align: top;\n",
       "    }\n",
       "\n",
       "    .dataframe thead th {\n",
       "        text-align: right;\n",
       "    }\n",
       "</style>\n",
       "<table border=\"1\" class=\"dataframe\">\n",
       "  <thead>\n",
       "    <tr style=\"text-align: right;\">\n",
       "      <th></th>\n",
       "      <th>date</th>\n",
       "      <th>date_block_num</th>\n",
       "      <th>shop_id</th>\n",
       "      <th>item_id</th>\n",
       "      <th>item_price</th>\n",
       "      <th>item_cnt_day</th>\n",
       "      <th>year</th>\n",
       "      <th>month</th>\n",
       "      <th>day</th>\n",
       "      <th>item_name</th>\n",
       "      <th>item_category_id</th>\n",
       "    </tr>\n",
       "  </thead>\n",
       "  <tbody>\n",
       "    <tr>\n",
       "      <th>0</th>\n",
       "      <td>2013-02-01</td>\n",
       "      <td>0</td>\n",
       "      <td>59</td>\n",
       "      <td>22154</td>\n",
       "      <td>999.0</td>\n",
       "      <td>1.0</td>\n",
       "      <td>2013</td>\n",
       "      <td>2</td>\n",
       "      <td>1</td>\n",
       "      <td>ЯВЛЕНИЕ 2012 (BD)</td>\n",
       "      <td>37</td>\n",
       "    </tr>\n",
       "    <tr>\n",
       "      <th>1</th>\n",
       "      <td>2013-01-23</td>\n",
       "      <td>0</td>\n",
       "      <td>24</td>\n",
       "      <td>22154</td>\n",
       "      <td>999.0</td>\n",
       "      <td>1.0</td>\n",
       "      <td>2013</td>\n",
       "      <td>1</td>\n",
       "      <td>23</td>\n",
       "      <td>ЯВЛЕНИЕ 2012 (BD)</td>\n",
       "      <td>37</td>\n",
       "    </tr>\n",
       "    <tr>\n",
       "      <th>2</th>\n",
       "      <td>2013-01-20</td>\n",
       "      <td>0</td>\n",
       "      <td>27</td>\n",
       "      <td>22154</td>\n",
       "      <td>999.0</td>\n",
       "      <td>1.0</td>\n",
       "      <td>2013</td>\n",
       "      <td>1</td>\n",
       "      <td>20</td>\n",
       "      <td>ЯВЛЕНИЕ 2012 (BD)</td>\n",
       "      <td>37</td>\n",
       "    </tr>\n",
       "    <tr>\n",
       "      <th>3</th>\n",
       "      <td>2013-02-01</td>\n",
       "      <td>0</td>\n",
       "      <td>25</td>\n",
       "      <td>22154</td>\n",
       "      <td>999.0</td>\n",
       "      <td>1.0</td>\n",
       "      <td>2013</td>\n",
       "      <td>2</td>\n",
       "      <td>1</td>\n",
       "      <td>ЯВЛЕНИЕ 2012 (BD)</td>\n",
       "      <td>37</td>\n",
       "    </tr>\n",
       "    <tr>\n",
       "      <th>4</th>\n",
       "      <td>2013-03-01</td>\n",
       "      <td>0</td>\n",
       "      <td>25</td>\n",
       "      <td>22154</td>\n",
       "      <td>999.0</td>\n",
       "      <td>1.0</td>\n",
       "      <td>2013</td>\n",
       "      <td>3</td>\n",
       "      <td>1</td>\n",
       "      <td>ЯВЛЕНИЕ 2012 (BD)</td>\n",
       "      <td>37</td>\n",
       "    </tr>\n",
       "  </tbody>\n",
       "</table>\n",
       "</div>"
      ],
      "text/plain": [
       "        date  date_block_num  shop_id  item_id  item_price  item_cnt_day  \\\n",
       "0 2013-02-01               0       59    22154       999.0           1.0   \n",
       "1 2013-01-23               0       24    22154       999.0           1.0   \n",
       "2 2013-01-20               0       27    22154       999.0           1.0   \n",
       "3 2013-02-01               0       25    22154       999.0           1.0   \n",
       "4 2013-03-01               0       25    22154       999.0           1.0   \n",
       "\n",
       "   year  month  day          item_name  item_category_id  \n",
       "0  2013      2    1  ЯВЛЕНИЕ 2012 (BD)                37  \n",
       "1  2013      1   23  ЯВЛЕНИЕ 2012 (BD)                37  \n",
       "2  2013      1   20  ЯВЛЕНИЕ 2012 (BD)                37  \n",
       "3  2013      2    1  ЯВЛЕНИЕ 2012 (BD)                37  \n",
       "4  2013      3    1  ЯВЛЕНИЕ 2012 (BD)                37  "
      ]
     },
     "execution_count": 29,
     "metadata": {},
     "output_type": "execute_result"
    }
   ],
   "source": [
    "sales_train.head()"
   ]
  },
  {
   "cell_type": "code",
   "execution_count": 30,
   "metadata": {},
   "outputs": [],
   "source": [
    "grid = pd.DataFrame(sales_train.groupby([\"shop_id\", \"item_id\",\"item_category_id\", \"year\",\"month\"], as_index=False)[\"item_cnt_day\"].sum())"
   ]
  },
  {
   "cell_type": "code",
   "execution_count": 31,
   "metadata": {},
   "outputs": [],
   "source": [
    "grid_new= grid.rename(columns={'item_cnt_day': 'shop_item_year_month_item_cat_cnt'})"
   ]
  },
  {
   "cell_type": "code",
   "execution_count": 32,
   "metadata": {},
   "outputs": [],
   "source": [
    "var = pd.DataFrame(sales_train.groupby([\"shop_id\", \"item_id\",\"item_category_id\", \"year\",\"month\"], as_index=False)[\"item_cnt_day\"].var())\n",
    "var= var.rename(columns={'item_cnt_day': 'shop_item_year_month_item_cat_var'})"
   ]
  },
  {
   "cell_type": "code",
   "execution_count": 33,
   "metadata": {},
   "outputs": [
    {
     "data": {
      "text/html": [
       "<div>\n",
       "<style scoped>\n",
       "    .dataframe tbody tr th:only-of-type {\n",
       "        vertical-align: middle;\n",
       "    }\n",
       "\n",
       "    .dataframe tbody tr th {\n",
       "        vertical-align: top;\n",
       "    }\n",
       "\n",
       "    .dataframe thead th {\n",
       "        text-align: right;\n",
       "    }\n",
       "</style>\n",
       "<table border=\"1\" class=\"dataframe\">\n",
       "  <thead>\n",
       "    <tr style=\"text-align: right;\">\n",
       "      <th></th>\n",
       "      <th>shop_id</th>\n",
       "      <th>item_id</th>\n",
       "      <th>item_category_id</th>\n",
       "      <th>year</th>\n",
       "      <th>month</th>\n",
       "      <th>shop_item_year_month_item_cat_var</th>\n",
       "    </tr>\n",
       "  </thead>\n",
       "  <tbody>\n",
       "    <tr>\n",
       "      <th>0</th>\n",
       "      <td>0</td>\n",
       "      <td>30</td>\n",
       "      <td>40</td>\n",
       "      <td>2013</td>\n",
       "      <td>2</td>\n",
       "      <td>5.027778</td>\n",
       "    </tr>\n",
       "    <tr>\n",
       "      <th>1</th>\n",
       "      <td>0</td>\n",
       "      <td>31</td>\n",
       "      <td>37</td>\n",
       "      <td>2013</td>\n",
       "      <td>2</td>\n",
       "      <td>0.952381</td>\n",
       "    </tr>\n",
       "    <tr>\n",
       "      <th>2</th>\n",
       "      <td>0</td>\n",
       "      <td>32</td>\n",
       "      <td>40</td>\n",
       "      <td>2013</td>\n",
       "      <td>1</td>\n",
       "      <td>0.333333</td>\n",
       "    </tr>\n",
       "    <tr>\n",
       "      <th>3</th>\n",
       "      <td>0</td>\n",
       "      <td>32</td>\n",
       "      <td>40</td>\n",
       "      <td>2013</td>\n",
       "      <td>2</td>\n",
       "      <td>0.333333</td>\n",
       "    </tr>\n",
       "    <tr>\n",
       "      <th>4</th>\n",
       "      <td>0</td>\n",
       "      <td>32</td>\n",
       "      <td>40</td>\n",
       "      <td>2013</td>\n",
       "      <td>3</td>\n",
       "      <td>NaN</td>\n",
       "    </tr>\n",
       "  </tbody>\n",
       "</table>\n",
       "</div>"
      ],
      "text/plain": [
       "   shop_id  item_id  item_category_id  year  month  \\\n",
       "0        0       30                40  2013      2   \n",
       "1        0       31                37  2013      2   \n",
       "2        0       32                40  2013      1   \n",
       "3        0       32                40  2013      2   \n",
       "4        0       32                40  2013      3   \n",
       "\n",
       "   shop_item_year_month_item_cat_var  \n",
       "0                           5.027778  \n",
       "1                           0.952381  \n",
       "2                           0.333333  \n",
       "3                           0.333333  \n",
       "4                                NaN  "
      ]
     },
     "execution_count": 33,
     "metadata": {},
     "output_type": "execute_result"
    }
   ],
   "source": [
    "var.head()"
   ]
  },
  {
   "cell_type": "code",
   "execution_count": 34,
   "metadata": {},
   "outputs": [],
   "source": [
    "grid = pd.merge(grid_new, var, on=[\"shop_id\", \"item_id\",\"year\",\"month\"], how='inner')"
   ]
  },
  {
   "cell_type": "code",
   "execution_count": 35,
   "metadata": {
    "scrolled": false
   },
   "outputs": [
    {
     "data": {
      "text/plain": [
       "shop_id                              False\n",
       "item_id                              False\n",
       "item_category_id_x                   False\n",
       "year                                 False\n",
       "month                                False\n",
       "shop_item_year_month_item_cat_cnt    False\n",
       "item_category_id_y                   False\n",
       "shop_item_year_month_item_cat_var     True\n",
       "dtype: bool"
      ]
     },
     "execution_count": 35,
     "metadata": {},
     "output_type": "execute_result"
    }
   ],
   "source": [
    "grid.isnull().any()"
   ]
  },
  {
   "cell_type": "code",
   "execution_count": 36,
   "metadata": {},
   "outputs": [],
   "source": [
    "grid = grid.fillna(grid[\"shop_item_year_month_item_cat_var\"].mean())"
   ]
  },
  {
   "cell_type": "code",
   "execution_count": 37,
   "metadata": {},
   "outputs": [],
   "source": [
    "grid = downcast_dtypes(grid)"
   ]
  },
  {
   "cell_type": "code",
   "execution_count": 38,
   "metadata": {},
   "outputs": [],
   "source": [
    "grid.drop(\"item_category_id_x\", axis=1, inplace=True)"
   ]
  },
  {
   "cell_type": "code",
   "execution_count": 39,
   "metadata": {},
   "outputs": [
    {
     "data": {
      "text/html": [
       "<div>\n",
       "<style scoped>\n",
       "    .dataframe tbody tr th:only-of-type {\n",
       "        vertical-align: middle;\n",
       "    }\n",
       "\n",
       "    .dataframe tbody tr th {\n",
       "        vertical-align: top;\n",
       "    }\n",
       "\n",
       "    .dataframe thead th {\n",
       "        text-align: right;\n",
       "    }\n",
       "</style>\n",
       "<table border=\"1\" class=\"dataframe\">\n",
       "  <thead>\n",
       "    <tr style=\"text-align: right;\">\n",
       "      <th></th>\n",
       "      <th>shop_id</th>\n",
       "      <th>item_id</th>\n",
       "      <th>year</th>\n",
       "      <th>month</th>\n",
       "      <th>shop_item_year_month_item_cat_cnt</th>\n",
       "      <th>item_category_id_y</th>\n",
       "      <th>shop_item_year_month_item_cat_var</th>\n",
       "    </tr>\n",
       "  </thead>\n",
       "  <tbody>\n",
       "    <tr>\n",
       "      <th>0</th>\n",
       "      <td>0</td>\n",
       "      <td>30</td>\n",
       "      <td>2013</td>\n",
       "      <td>2</td>\n",
       "      <td>31.0</td>\n",
       "      <td>40</td>\n",
       "      <td>5.027778</td>\n",
       "    </tr>\n",
       "    <tr>\n",
       "      <th>1</th>\n",
       "      <td>0</td>\n",
       "      <td>31</td>\n",
       "      <td>2013</td>\n",
       "      <td>2</td>\n",
       "      <td>11.0</td>\n",
       "      <td>37</td>\n",
       "      <td>0.952381</td>\n",
       "    </tr>\n",
       "    <tr>\n",
       "      <th>2</th>\n",
       "      <td>0</td>\n",
       "      <td>32</td>\n",
       "      <td>2013</td>\n",
       "      <td>1</td>\n",
       "      <td>4.0</td>\n",
       "      <td>40</td>\n",
       "      <td>0.333333</td>\n",
       "    </tr>\n",
       "    <tr>\n",
       "      <th>3</th>\n",
       "      <td>0</td>\n",
       "      <td>32</td>\n",
       "      <td>2013</td>\n",
       "      <td>2</td>\n",
       "      <td>6.0</td>\n",
       "      <td>40</td>\n",
       "      <td>0.333333</td>\n",
       "    </tr>\n",
       "    <tr>\n",
       "      <th>4</th>\n",
       "      <td>0</td>\n",
       "      <td>32</td>\n",
       "      <td>2013</td>\n",
       "      <td>3</td>\n",
       "      <td>2.0</td>\n",
       "      <td>40</td>\n",
       "      <td>1.865565</td>\n",
       "    </tr>\n",
       "  </tbody>\n",
       "</table>\n",
       "</div>"
      ],
      "text/plain": [
       "   shop_id  item_id  year  month  shop_item_year_month_item_cat_cnt  \\\n",
       "0        0       30  2013      2                               31.0   \n",
       "1        0       31  2013      2                               11.0   \n",
       "2        0       32  2013      1                                4.0   \n",
       "3        0       32  2013      2                                6.0   \n",
       "4        0       32  2013      3                                2.0   \n",
       "\n",
       "   item_category_id_y  shop_item_year_month_item_cat_var  \n",
       "0                  40                           5.027778  \n",
       "1                  37                           0.952381  \n",
       "2                  40                           0.333333  \n",
       "3                  40                           0.333333  \n",
       "4                  40                           1.865565  "
      ]
     },
     "execution_count": 39,
     "metadata": {},
     "output_type": "execute_result"
    }
   ],
   "source": [
    "grid.head()"
   ]
  },
  {
   "cell_type": "code",
   "execution_count": 40,
   "metadata": {},
   "outputs": [],
   "source": [
    "mean = pd.DataFrame(sales_train.groupby([\"shop_id\", \"item_id\",\"item_category_id\", \"year\",\"month\"], as_index=False)[\"item_cnt_day\"].mean())\n",
    "mean= var.rename(columns={'item_cnt_day': 'shop_item_year_month_item_cat_avg'})"
   ]
  },
  {
   "cell_type": "code",
   "execution_count": 41,
   "metadata": {},
   "outputs": [],
   "source": [
    "mean = pd.DataFrame(sales_train.groupby([\"shop_id\", \"item_id\",\"item_category_id\", \"year\",\"month\"], as_index=False)[\"item_cnt_day\"].mean())\n",
    "mean= var.rename(columns={'item_cnt_day': 'shop_item_year_month_item_cat_avg'})"
   ]
  },
  {
   "cell_type": "code",
   "execution_count": 42,
   "metadata": {},
   "outputs": [],
   "source": [
    "mean = pd.DataFrame(sales_train.groupby([\"shop_id\", \"item_id\",\"item_category_id\", \"year\",\"month\"], as_index=False)[\"item_cnt_day\"].mean())\n"
   ]
  },
  {
   "cell_type": "code",
   "execution_count": 43,
   "metadata": {},
   "outputs": [],
   "source": [
    "mean= mean.rename(columns={'item_cnt_day': 'shop_item_year_month_item_cat_avg'})"
   ]
  },
  {
   "cell_type": "code",
   "execution_count": 44,
   "metadata": {},
   "outputs": [
    {
     "data": {
      "text/html": [
       "<div>\n",
       "<style scoped>\n",
       "    .dataframe tbody tr th:only-of-type {\n",
       "        vertical-align: middle;\n",
       "    }\n",
       "\n",
       "    .dataframe tbody tr th {\n",
       "        vertical-align: top;\n",
       "    }\n",
       "\n",
       "    .dataframe thead th {\n",
       "        text-align: right;\n",
       "    }\n",
       "</style>\n",
       "<table border=\"1\" class=\"dataframe\">\n",
       "  <thead>\n",
       "    <tr style=\"text-align: right;\">\n",
       "      <th></th>\n",
       "      <th>shop_id</th>\n",
       "      <th>item_id</th>\n",
       "      <th>item_category_id</th>\n",
       "      <th>year</th>\n",
       "      <th>month</th>\n",
       "      <th>shop_item_year_month_item_cat_avg</th>\n",
       "    </tr>\n",
       "  </thead>\n",
       "  <tbody>\n",
       "    <tr>\n",
       "      <th>0</th>\n",
       "      <td>0</td>\n",
       "      <td>30</td>\n",
       "      <td>40</td>\n",
       "      <td>2013</td>\n",
       "      <td>2</td>\n",
       "      <td>3.444444</td>\n",
       "    </tr>\n",
       "    <tr>\n",
       "      <th>1</th>\n",
       "      <td>0</td>\n",
       "      <td>31</td>\n",
       "      <td>37</td>\n",
       "      <td>2013</td>\n",
       "      <td>2</td>\n",
       "      <td>1.571429</td>\n",
       "    </tr>\n",
       "    <tr>\n",
       "      <th>2</th>\n",
       "      <td>0</td>\n",
       "      <td>32</td>\n",
       "      <td>40</td>\n",
       "      <td>2013</td>\n",
       "      <td>1</td>\n",
       "      <td>1.333333</td>\n",
       "    </tr>\n",
       "    <tr>\n",
       "      <th>3</th>\n",
       "      <td>0</td>\n",
       "      <td>32</td>\n",
       "      <td>40</td>\n",
       "      <td>2013</td>\n",
       "      <td>2</td>\n",
       "      <td>1.500000</td>\n",
       "    </tr>\n",
       "    <tr>\n",
       "      <th>4</th>\n",
       "      <td>0</td>\n",
       "      <td>32</td>\n",
       "      <td>40</td>\n",
       "      <td>2013</td>\n",
       "      <td>3</td>\n",
       "      <td>2.000000</td>\n",
       "    </tr>\n",
       "  </tbody>\n",
       "</table>\n",
       "</div>"
      ],
      "text/plain": [
       "   shop_id  item_id  item_category_id  year  month  \\\n",
       "0        0       30                40  2013      2   \n",
       "1        0       31                37  2013      2   \n",
       "2        0       32                40  2013      1   \n",
       "3        0       32                40  2013      2   \n",
       "4        0       32                40  2013      3   \n",
       "\n",
       "   shop_item_year_month_item_cat_avg  \n",
       "0                           3.444444  \n",
       "1                           1.571429  \n",
       "2                           1.333333  \n",
       "3                           1.500000  \n",
       "4                           2.000000  "
      ]
     },
     "execution_count": 44,
     "metadata": {},
     "output_type": "execute_result"
    }
   ],
   "source": [
    "mean.head()"
   ]
  },
  {
   "cell_type": "code",
   "execution_count": 45,
   "metadata": {},
   "outputs": [],
   "source": [
    "grid = pd.merge(grid, mean, on=[\"shop_id\", \"item_id\",\"year\",\"month\"], how='inner')"
   ]
  },
  {
   "cell_type": "code",
   "execution_count": 46,
   "metadata": {},
   "outputs": [
    {
     "data": {
      "text/html": [
       "<div>\n",
       "<style scoped>\n",
       "    .dataframe tbody tr th:only-of-type {\n",
       "        vertical-align: middle;\n",
       "    }\n",
       "\n",
       "    .dataframe tbody tr th {\n",
       "        vertical-align: top;\n",
       "    }\n",
       "\n",
       "    .dataframe thead th {\n",
       "        text-align: right;\n",
       "    }\n",
       "</style>\n",
       "<table border=\"1\" class=\"dataframe\">\n",
       "  <thead>\n",
       "    <tr style=\"text-align: right;\">\n",
       "      <th></th>\n",
       "      <th>shop_id</th>\n",
       "      <th>item_id</th>\n",
       "      <th>year</th>\n",
       "      <th>month</th>\n",
       "      <th>shop_item_year_month_item_cat_cnt</th>\n",
       "      <th>item_category_id_y</th>\n",
       "      <th>shop_item_year_month_item_cat_var</th>\n",
       "      <th>item_category_id</th>\n",
       "      <th>shop_item_year_month_item_cat_avg</th>\n",
       "    </tr>\n",
       "  </thead>\n",
       "  <tbody>\n",
       "    <tr>\n",
       "      <th>0</th>\n",
       "      <td>0</td>\n",
       "      <td>30</td>\n",
       "      <td>2013</td>\n",
       "      <td>2</td>\n",
       "      <td>31.0</td>\n",
       "      <td>40</td>\n",
       "      <td>5.027778</td>\n",
       "      <td>40</td>\n",
       "      <td>3.444444</td>\n",
       "    </tr>\n",
       "    <tr>\n",
       "      <th>1</th>\n",
       "      <td>0</td>\n",
       "      <td>31</td>\n",
       "      <td>2013</td>\n",
       "      <td>2</td>\n",
       "      <td>11.0</td>\n",
       "      <td>37</td>\n",
       "      <td>0.952381</td>\n",
       "      <td>37</td>\n",
       "      <td>1.571429</td>\n",
       "    </tr>\n",
       "    <tr>\n",
       "      <th>2</th>\n",
       "      <td>0</td>\n",
       "      <td>32</td>\n",
       "      <td>2013</td>\n",
       "      <td>1</td>\n",
       "      <td>4.0</td>\n",
       "      <td>40</td>\n",
       "      <td>0.333333</td>\n",
       "      <td>40</td>\n",
       "      <td>1.333333</td>\n",
       "    </tr>\n",
       "    <tr>\n",
       "      <th>3</th>\n",
       "      <td>0</td>\n",
       "      <td>32</td>\n",
       "      <td>2013</td>\n",
       "      <td>2</td>\n",
       "      <td>6.0</td>\n",
       "      <td>40</td>\n",
       "      <td>0.333333</td>\n",
       "      <td>40</td>\n",
       "      <td>1.500000</td>\n",
       "    </tr>\n",
       "    <tr>\n",
       "      <th>4</th>\n",
       "      <td>0</td>\n",
       "      <td>32</td>\n",
       "      <td>2013</td>\n",
       "      <td>3</td>\n",
       "      <td>2.0</td>\n",
       "      <td>40</td>\n",
       "      <td>1.865565</td>\n",
       "      <td>40</td>\n",
       "      <td>2.000000</td>\n",
       "    </tr>\n",
       "  </tbody>\n",
       "</table>\n",
       "</div>"
      ],
      "text/plain": [
       "   shop_id  item_id  year  month  shop_item_year_month_item_cat_cnt  \\\n",
       "0        0       30  2013      2                               31.0   \n",
       "1        0       31  2013      2                               11.0   \n",
       "2        0       32  2013      1                                4.0   \n",
       "3        0       32  2013      2                                6.0   \n",
       "4        0       32  2013      3                                2.0   \n",
       "\n",
       "   item_category_id_y  shop_item_year_month_item_cat_var  item_category_id  \\\n",
       "0                  40                           5.027778                40   \n",
       "1                  37                           0.952381                37   \n",
       "2                  40                           0.333333                40   \n",
       "3                  40                           0.333333                40   \n",
       "4                  40                           1.865565                40   \n",
       "\n",
       "   shop_item_year_month_item_cat_avg  \n",
       "0                           3.444444  \n",
       "1                           1.571429  \n",
       "2                           1.333333  \n",
       "3                           1.500000  \n",
       "4                           2.000000  "
      ]
     },
     "execution_count": 46,
     "metadata": {},
     "output_type": "execute_result"
    }
   ],
   "source": [
    "grid.head()"
   ]
  },
  {
   "cell_type": "code",
   "execution_count": 47,
   "metadata": {},
   "outputs": [],
   "source": [
    "grid = grid.fillna(grid[\"shop_item_year_month_item_cat_avg\"].mean())"
   ]
  },
  {
   "cell_type": "code",
   "execution_count": 48,
   "metadata": {},
   "outputs": [
    {
     "data": {
      "text/html": [
       "<div>\n",
       "<style scoped>\n",
       "    .dataframe tbody tr th:only-of-type {\n",
       "        vertical-align: middle;\n",
       "    }\n",
       "\n",
       "    .dataframe tbody tr th {\n",
       "        vertical-align: top;\n",
       "    }\n",
       "\n",
       "    .dataframe thead th {\n",
       "        text-align: right;\n",
       "    }\n",
       "</style>\n",
       "<table border=\"1\" class=\"dataframe\">\n",
       "  <thead>\n",
       "    <tr style=\"text-align: right;\">\n",
       "      <th></th>\n",
       "      <th>shop_id</th>\n",
       "      <th>item_id</th>\n",
       "      <th>year</th>\n",
       "      <th>month</th>\n",
       "      <th>shop_item_year_month_item_cat_cnt</th>\n",
       "      <th>item_category_id_y</th>\n",
       "      <th>shop_item_year_month_item_cat_var</th>\n",
       "      <th>item_category_id</th>\n",
       "      <th>shop_item_year_month_item_cat_avg</th>\n",
       "    </tr>\n",
       "  </thead>\n",
       "  <tbody>\n",
       "    <tr>\n",
       "      <th>0</th>\n",
       "      <td>0</td>\n",
       "      <td>30</td>\n",
       "      <td>2013</td>\n",
       "      <td>2</td>\n",
       "      <td>31.0</td>\n",
       "      <td>40</td>\n",
       "      <td>5.027778</td>\n",
       "      <td>40</td>\n",
       "      <td>3.444444</td>\n",
       "    </tr>\n",
       "    <tr>\n",
       "      <th>1</th>\n",
       "      <td>0</td>\n",
       "      <td>31</td>\n",
       "      <td>2013</td>\n",
       "      <td>2</td>\n",
       "      <td>11.0</td>\n",
       "      <td>37</td>\n",
       "      <td>0.952381</td>\n",
       "      <td>37</td>\n",
       "      <td>1.571429</td>\n",
       "    </tr>\n",
       "    <tr>\n",
       "      <th>2</th>\n",
       "      <td>0</td>\n",
       "      <td>32</td>\n",
       "      <td>2013</td>\n",
       "      <td>1</td>\n",
       "      <td>4.0</td>\n",
       "      <td>40</td>\n",
       "      <td>0.333333</td>\n",
       "      <td>40</td>\n",
       "      <td>1.333333</td>\n",
       "    </tr>\n",
       "    <tr>\n",
       "      <th>3</th>\n",
       "      <td>0</td>\n",
       "      <td>32</td>\n",
       "      <td>2013</td>\n",
       "      <td>2</td>\n",
       "      <td>6.0</td>\n",
       "      <td>40</td>\n",
       "      <td>0.333333</td>\n",
       "      <td>40</td>\n",
       "      <td>1.500000</td>\n",
       "    </tr>\n",
       "    <tr>\n",
       "      <th>4</th>\n",
       "      <td>0</td>\n",
       "      <td>32</td>\n",
       "      <td>2013</td>\n",
       "      <td>3</td>\n",
       "      <td>2.0</td>\n",
       "      <td>40</td>\n",
       "      <td>1.865565</td>\n",
       "      <td>40</td>\n",
       "      <td>2.000000</td>\n",
       "    </tr>\n",
       "  </tbody>\n",
       "</table>\n",
       "</div>"
      ],
      "text/plain": [
       "   shop_id  item_id  year  month  shop_item_year_month_item_cat_cnt  \\\n",
       "0        0       30  2013      2                               31.0   \n",
       "1        0       31  2013      2                               11.0   \n",
       "2        0       32  2013      1                                4.0   \n",
       "3        0       32  2013      2                                6.0   \n",
       "4        0       32  2013      3                                2.0   \n",
       "\n",
       "   item_category_id_y  shop_item_year_month_item_cat_var  item_category_id  \\\n",
       "0                  40                           5.027778                40   \n",
       "1                  37                           0.952381                37   \n",
       "2                  40                           0.333333                40   \n",
       "3                  40                           0.333333                40   \n",
       "4                  40                           1.865565                40   \n",
       "\n",
       "   shop_item_year_month_item_cat_avg  \n",
       "0                           3.444444  \n",
       "1                           1.571429  \n",
       "2                           1.333333  \n",
       "3                           1.500000  \n",
       "4                           2.000000  "
      ]
     },
     "execution_count": 48,
     "metadata": {},
     "output_type": "execute_result"
    }
   ],
   "source": [
    "grid.head()"
   ]
  },
  {
   "cell_type": "code",
   "execution_count": 49,
   "metadata": {},
   "outputs": [],
   "source": [
    "cnt_month = pd.DataFrame(sales_train.groupby([\"shop_id\", \"item_id\",\"year\",\"month\"], as_index=False)[\"item_cnt_day\"].sum())\n",
    "cnt_month = cnt_month.rename(columns={'item_cnt_day': 'item_cnt_month'})"
   ]
  },
  {
   "cell_type": "code",
   "execution_count": 50,
   "metadata": {},
   "outputs": [],
   "source": [
    "grid = pd.merge(grid, cnt_month, on=[\"shop_id\", \"item_id\",\"year\",\"month\"], how='inner')"
   ]
  },
  {
   "cell_type": "code",
   "execution_count": 51,
   "metadata": {},
   "outputs": [],
   "source": [
    "trainy = grid.iloc[:, -1]"
   ]
  },
  {
   "cell_type": "code",
   "execution_count": 52,
   "metadata": {},
   "outputs": [],
   "source": [
    "trainx = grid.iloc[:, 0:9]"
   ]
  },
  {
   "cell_type": "code",
   "execution_count": 53,
   "metadata": {},
   "outputs": [],
   "source": [
    "test[\"year\"] = 2015\n",
    "test[\"month\"] = 11\n",
    "test = pd.merge(test, grid, on=[\"shop_id\", \"item_id\",\"year\",\"month\"], how=\"left\")"
   ]
  },
  {
   "cell_type": "code",
   "execution_count": 54,
   "metadata": {},
   "outputs": [],
   "source": [
    "item_id = test[[\"ID\", \"item_id\"]]\n",
    "test.drop(\"ID\", axis=1, inplace=True)"
   ]
  },
  {
   "cell_type": "code",
   "execution_count": 55,
   "metadata": {},
   "outputs": [],
   "source": [
    "test.drop(\"item_cnt_month\", axis=1, inplace=True)\n",
    "test.drop(\"item_category_id_y\", axis=1, inplace=True)"
   ]
  },
  {
   "cell_type": "code",
   "execution_count": 56,
   "metadata": {},
   "outputs": [],
   "source": []
  },
  {
   "cell_type": "code",
   "execution_count": 57,
   "metadata": {},
   "outputs": [],
   "source": [
    "test.isnull().any()\n",
    "test[\"shop_item_year_month_item_cat_avg\"] = test[\"shop_item_year_month_item_cat_avg\"].fillna(grid[\"shop_item_year_month_item_cat_avg\"].mean())"
   ]
  },
  {
   "cell_type": "code",
   "execution_count": 58,
   "metadata": {},
   "outputs": [],
   "source": [
    "test[\"shop_item_year_month_item_cat_cnt\"] = test[\"shop_item_year_month_item_cat_cnt\"].fillna(grid[\"shop_item_year_month_item_cat_cnt\"].mean())\n",
    "test[\"shop_item_year_month_item_cat_var\"] = test[\"shop_item_year_month_item_cat_var\"].fillna(grid[\"shop_item_year_month_item_cat_var\"].mean())"
   ]
  },
  {
   "cell_type": "code",
   "execution_count": 59,
   "metadata": {},
   "outputs": [
    {
     "data": {
      "text/html": [
       "<div>\n",
       "<style scoped>\n",
       "    .dataframe tbody tr th:only-of-type {\n",
       "        vertical-align: middle;\n",
       "    }\n",
       "\n",
       "    .dataframe tbody tr th {\n",
       "        vertical-align: top;\n",
       "    }\n",
       "\n",
       "    .dataframe thead th {\n",
       "        text-align: right;\n",
       "    }\n",
       "</style>\n",
       "<table border=\"1\" class=\"dataframe\">\n",
       "  <thead>\n",
       "    <tr style=\"text-align: right;\">\n",
       "      <th></th>\n",
       "      <th>shop_id</th>\n",
       "      <th>item_id</th>\n",
       "      <th>year</th>\n",
       "      <th>month</th>\n",
       "      <th>shop_item_year_month_item_cat_cnt</th>\n",
       "      <th>item_category_id_y</th>\n",
       "      <th>shop_item_year_month_item_cat_var</th>\n",
       "      <th>item_category_id</th>\n",
       "      <th>shop_item_year_month_item_cat_avg</th>\n",
       "    </tr>\n",
       "  </thead>\n",
       "  <tbody>\n",
       "    <tr>\n",
       "      <th>0</th>\n",
       "      <td>0</td>\n",
       "      <td>30</td>\n",
       "      <td>2013</td>\n",
       "      <td>2</td>\n",
       "      <td>31.0</td>\n",
       "      <td>40</td>\n",
       "      <td>5.027778</td>\n",
       "      <td>40</td>\n",
       "      <td>3.444444</td>\n",
       "    </tr>\n",
       "    <tr>\n",
       "      <th>1</th>\n",
       "      <td>0</td>\n",
       "      <td>31</td>\n",
       "      <td>2013</td>\n",
       "      <td>2</td>\n",
       "      <td>11.0</td>\n",
       "      <td>37</td>\n",
       "      <td>0.952381</td>\n",
       "      <td>37</td>\n",
       "      <td>1.571429</td>\n",
       "    </tr>\n",
       "    <tr>\n",
       "      <th>2</th>\n",
       "      <td>0</td>\n",
       "      <td>32</td>\n",
       "      <td>2013</td>\n",
       "      <td>1</td>\n",
       "      <td>4.0</td>\n",
       "      <td>40</td>\n",
       "      <td>0.333333</td>\n",
       "      <td>40</td>\n",
       "      <td>1.333333</td>\n",
       "    </tr>\n",
       "    <tr>\n",
       "      <th>3</th>\n",
       "      <td>0</td>\n",
       "      <td>32</td>\n",
       "      <td>2013</td>\n",
       "      <td>2</td>\n",
       "      <td>6.0</td>\n",
       "      <td>40</td>\n",
       "      <td>0.333333</td>\n",
       "      <td>40</td>\n",
       "      <td>1.500000</td>\n",
       "    </tr>\n",
       "    <tr>\n",
       "      <th>4</th>\n",
       "      <td>0</td>\n",
       "      <td>32</td>\n",
       "      <td>2013</td>\n",
       "      <td>3</td>\n",
       "      <td>2.0</td>\n",
       "      <td>40</td>\n",
       "      <td>1.865565</td>\n",
       "      <td>40</td>\n",
       "      <td>2.000000</td>\n",
       "    </tr>\n",
       "  </tbody>\n",
       "</table>\n",
       "</div>"
      ],
      "text/plain": [
       "   shop_id  item_id  year  month  shop_item_year_month_item_cat_cnt  \\\n",
       "0        0       30  2013      2                               31.0   \n",
       "1        0       31  2013      2                               11.0   \n",
       "2        0       32  2013      1                                4.0   \n",
       "3        0       32  2013      2                                6.0   \n",
       "4        0       32  2013      3                                2.0   \n",
       "\n",
       "   item_category_id_y  shop_item_year_month_item_cat_var  item_category_id  \\\n",
       "0                  40                           5.027778                40   \n",
       "1                  37                           0.952381                37   \n",
       "2                  40                           0.333333                40   \n",
       "3                  40                           0.333333                40   \n",
       "4                  40                           1.865565                40   \n",
       "\n",
       "   shop_item_year_month_item_cat_avg  \n",
       "0                           3.444444  \n",
       "1                           1.571429  \n",
       "2                           1.333333  \n",
       "3                           1.500000  \n",
       "4                           2.000000  "
      ]
     },
     "execution_count": 59,
     "metadata": {},
     "output_type": "execute_result"
    }
   ],
   "source": [
    "trainx.head()"
   ]
  },
  {
   "cell_type": "code",
   "execution_count": 60,
   "metadata": {
    "scrolled": true
   },
   "outputs": [],
   "source": [
    "trainx.drop(\"item_category_id\", axis=1, inplace=True)\n",
    "trainx.drop(\"item_category_id_y\", axis=1, inplace=True)"
   ]
  },
  {
   "cell_type": "code",
   "execution_count": 61,
   "metadata": {},
   "outputs": [],
   "source": [
    "test.drop(\"item_category_id\", axis=1, inplace=True)"
   ]
  },
  {
   "cell_type": "code",
   "execution_count": 62,
   "metadata": {},
   "outputs": [
    {
     "data": {
      "text/html": [
       "<div>\n",
       "<style scoped>\n",
       "    .dataframe tbody tr th:only-of-type {\n",
       "        vertical-align: middle;\n",
       "    }\n",
       "\n",
       "    .dataframe tbody tr th {\n",
       "        vertical-align: top;\n",
       "    }\n",
       "\n",
       "    .dataframe thead th {\n",
       "        text-align: right;\n",
       "    }\n",
       "</style>\n",
       "<table border=\"1\" class=\"dataframe\">\n",
       "  <thead>\n",
       "    <tr style=\"text-align: right;\">\n",
       "      <th></th>\n",
       "      <th>shop_id</th>\n",
       "      <th>item_id</th>\n",
       "      <th>year</th>\n",
       "      <th>month</th>\n",
       "      <th>shop_item_year_month_item_cat_cnt</th>\n",
       "      <th>shop_item_year_month_item_cat_var</th>\n",
       "      <th>shop_item_year_month_item_cat_avg</th>\n",
       "    </tr>\n",
       "  </thead>\n",
       "  <tbody>\n",
       "    <tr>\n",
       "      <th>0</th>\n",
       "      <td>0</td>\n",
       "      <td>30</td>\n",
       "      <td>2013</td>\n",
       "      <td>2</td>\n",
       "      <td>31.0</td>\n",
       "      <td>5.027778</td>\n",
       "      <td>3.444444</td>\n",
       "    </tr>\n",
       "    <tr>\n",
       "      <th>1</th>\n",
       "      <td>0</td>\n",
       "      <td>31</td>\n",
       "      <td>2013</td>\n",
       "      <td>2</td>\n",
       "      <td>11.0</td>\n",
       "      <td>0.952381</td>\n",
       "      <td>1.571429</td>\n",
       "    </tr>\n",
       "    <tr>\n",
       "      <th>2</th>\n",
       "      <td>0</td>\n",
       "      <td>32</td>\n",
       "      <td>2013</td>\n",
       "      <td>1</td>\n",
       "      <td>4.0</td>\n",
       "      <td>0.333333</td>\n",
       "      <td>1.333333</td>\n",
       "    </tr>\n",
       "    <tr>\n",
       "      <th>3</th>\n",
       "      <td>0</td>\n",
       "      <td>32</td>\n",
       "      <td>2013</td>\n",
       "      <td>2</td>\n",
       "      <td>6.0</td>\n",
       "      <td>0.333333</td>\n",
       "      <td>1.500000</td>\n",
       "    </tr>\n",
       "    <tr>\n",
       "      <th>4</th>\n",
       "      <td>0</td>\n",
       "      <td>32</td>\n",
       "      <td>2013</td>\n",
       "      <td>3</td>\n",
       "      <td>2.0</td>\n",
       "      <td>1.865565</td>\n",
       "      <td>2.000000</td>\n",
       "    </tr>\n",
       "  </tbody>\n",
       "</table>\n",
       "</div>"
      ],
      "text/plain": [
       "   shop_id  item_id  year  month  shop_item_year_month_item_cat_cnt  \\\n",
       "0        0       30  2013      2                               31.0   \n",
       "1        0       31  2013      2                               11.0   \n",
       "2        0       32  2013      1                                4.0   \n",
       "3        0       32  2013      2                                6.0   \n",
       "4        0       32  2013      3                                2.0   \n",
       "\n",
       "   shop_item_year_month_item_cat_var  shop_item_year_month_item_cat_avg  \n",
       "0                           5.027778                           3.444444  \n",
       "1                           0.952381                           1.571429  \n",
       "2                           0.333333                           1.333333  \n",
       "3                           0.333333                           1.500000  \n",
       "4                           1.865565                           2.000000  "
      ]
     },
     "execution_count": 62,
     "metadata": {},
     "output_type": "execute_result"
    }
   ],
   "source": [
    "trainx.head()"
   ]
  },
  {
   "cell_type": "code",
   "execution_count": 64,
   "metadata": {},
   "outputs": [
    {
     "data": {
      "text/html": [
       "<div>\n",
       "<style scoped>\n",
       "    .dataframe tbody tr th:only-of-type {\n",
       "        vertical-align: middle;\n",
       "    }\n",
       "\n",
       "    .dataframe tbody tr th {\n",
       "        vertical-align: top;\n",
       "    }\n",
       "\n",
       "    .dataframe thead th {\n",
       "        text-align: right;\n",
       "    }\n",
       "</style>\n",
       "<table border=\"1\" class=\"dataframe\">\n",
       "  <thead>\n",
       "    <tr style=\"text-align: right;\">\n",
       "      <th></th>\n",
       "      <th>shop_id</th>\n",
       "      <th>item_id</th>\n",
       "      <th>year</th>\n",
       "      <th>month</th>\n",
       "      <th>shop_item_year_month_item_cat_cnt</th>\n",
       "      <th>shop_item_year_month_item_cat_var</th>\n",
       "      <th>shop_item_year_month_item_cat_avg</th>\n",
       "    </tr>\n",
       "  </thead>\n",
       "  <tbody>\n",
       "    <tr>\n",
       "      <th>0</th>\n",
       "      <td>5</td>\n",
       "      <td>5037</td>\n",
       "      <td>2015</td>\n",
       "      <td>11</td>\n",
       "      <td>2.022078</td>\n",
       "      <td>1.83642</td>\n",
       "      <td>1.10499</td>\n",
       "    </tr>\n",
       "    <tr>\n",
       "      <th>1</th>\n",
       "      <td>5</td>\n",
       "      <td>5320</td>\n",
       "      <td>2015</td>\n",
       "      <td>11</td>\n",
       "      <td>2.022078</td>\n",
       "      <td>1.83642</td>\n",
       "      <td>1.10499</td>\n",
       "    </tr>\n",
       "    <tr>\n",
       "      <th>2</th>\n",
       "      <td>5</td>\n",
       "      <td>5233</td>\n",
       "      <td>2015</td>\n",
       "      <td>11</td>\n",
       "      <td>2.022078</td>\n",
       "      <td>1.83642</td>\n",
       "      <td>1.10499</td>\n",
       "    </tr>\n",
       "    <tr>\n",
       "      <th>3</th>\n",
       "      <td>5</td>\n",
       "      <td>5232</td>\n",
       "      <td>2015</td>\n",
       "      <td>11</td>\n",
       "      <td>2.022078</td>\n",
       "      <td>1.83642</td>\n",
       "      <td>1.10499</td>\n",
       "    </tr>\n",
       "    <tr>\n",
       "      <th>4</th>\n",
       "      <td>5</td>\n",
       "      <td>5268</td>\n",
       "      <td>2015</td>\n",
       "      <td>11</td>\n",
       "      <td>2.022078</td>\n",
       "      <td>1.83642</td>\n",
       "      <td>1.10499</td>\n",
       "    </tr>\n",
       "  </tbody>\n",
       "</table>\n",
       "</div>"
      ],
      "text/plain": [
       "   shop_id  item_id  year  month  shop_item_year_month_item_cat_cnt  \\\n",
       "0        5     5037  2015     11                           2.022078   \n",
       "1        5     5320  2015     11                           2.022078   \n",
       "2        5     5233  2015     11                           2.022078   \n",
       "3        5     5232  2015     11                           2.022078   \n",
       "4        5     5268  2015     11                           2.022078   \n",
       "\n",
       "   shop_item_year_month_item_cat_var  shop_item_year_month_item_cat_avg  \n",
       "0                            1.83642                            1.10499  \n",
       "1                            1.83642                            1.10499  \n",
       "2                            1.83642                            1.10499  \n",
       "3                            1.83642                            1.10499  \n",
       "4                            1.83642                            1.10499  "
      ]
     },
     "execution_count": 64,
     "metadata": {},
     "output_type": "execute_result"
    }
   ],
   "source": [
    "test.head()"
   ]
  },
  {
   "cell_type": "code",
   "execution_count": 65,
   "metadata": {},
   "outputs": [],
   "source": [
    "from sklearn.ensemble import RandomForestClassifier\n",
    "clf = RandomForestClassifier(random_state=0)\n",
    "clf = clf.fit(trainx, trainy)"
   ]
  },
  {
   "cell_type": "code",
   "execution_count": 66,
   "metadata": {},
   "outputs": [],
   "source": [
    "pred = clf.predict(test)"
   ]
  },
  {
   "cell_type": "code",
   "execution_count": 67,
   "metadata": {},
   "outputs": [],
   "source": [
    "pred = pd.DataFrame(pred)"
   ]
  },
  {
   "cell_type": "code",
   "execution_count": 68,
   "metadata": {},
   "outputs": [
    {
     "data": {
      "text/html": [
       "<div>\n",
       "<style scoped>\n",
       "    .dataframe tbody tr th:only-of-type {\n",
       "        vertical-align: middle;\n",
       "    }\n",
       "\n",
       "    .dataframe tbody tr th {\n",
       "        vertical-align: top;\n",
       "    }\n",
       "\n",
       "    .dataframe thead th {\n",
       "        text-align: right;\n",
       "    }\n",
       "</style>\n",
       "<table border=\"1\" class=\"dataframe\">\n",
       "  <thead>\n",
       "    <tr style=\"text-align: right;\">\n",
       "      <th></th>\n",
       "      <th>ID</th>\n",
       "      <th>item_id</th>\n",
       "    </tr>\n",
       "  </thead>\n",
       "  <tbody>\n",
       "    <tr>\n",
       "      <th>0</th>\n",
       "      <td>0</td>\n",
       "      <td>5037</td>\n",
       "    </tr>\n",
       "    <tr>\n",
       "      <th>1</th>\n",
       "      <td>1</td>\n",
       "      <td>5320</td>\n",
       "    </tr>\n",
       "    <tr>\n",
       "      <th>2</th>\n",
       "      <td>2</td>\n",
       "      <td>5233</td>\n",
       "    </tr>\n",
       "    <tr>\n",
       "      <th>3</th>\n",
       "      <td>3</td>\n",
       "      <td>5232</td>\n",
       "    </tr>\n",
       "    <tr>\n",
       "      <th>4</th>\n",
       "      <td>4</td>\n",
       "      <td>5268</td>\n",
       "    </tr>\n",
       "  </tbody>\n",
       "</table>\n",
       "</div>"
      ],
      "text/plain": [
       "   ID  item_id\n",
       "0   0     5037\n",
       "1   1     5320\n",
       "2   2     5233\n",
       "3   3     5232\n",
       "4   4     5268"
      ]
     },
     "execution_count": 68,
     "metadata": {},
     "output_type": "execute_result"
    }
   ],
   "source": [
    "item_id.head()"
   ]
  },
  {
   "cell_type": "code",
   "execution_count": 69,
   "metadata": {},
   "outputs": [],
   "source": [
    "pred = pred.reset_index()\n",
    "item_id = item_id.reset_index()"
   ]
  },
  {
   "cell_type": "code",
   "execution_count": 70,
   "metadata": {},
   "outputs": [],
   "source": [
    "pred = pd.merge(item_id, pred, on=\"index\")\n",
    "pred = pred.rename(columns={0: 'item_cnt_month'})"
   ]
  },
  {
   "cell_type": "code",
   "execution_count": 1,
   "metadata": {},
   "outputs": [
    {
     "ename": "NameError",
     "evalue": "name 'test' is not defined",
     "output_type": "error",
     "traceback": [
      "\u001b[0;31m---------------------------------------------------------------------------\u001b[0m",
      "\u001b[0;31mNameError\u001b[0m                                 Traceback (most recent call last)",
      "\u001b[0;32m<ipython-input-1-8ae592785626>\u001b[0m in \u001b[0;36m<module>\u001b[0;34m()\u001b[0m\n\u001b[0;32m----> 1\u001b[0;31m \u001b[0mtest\u001b[0m\u001b[0;34m.\u001b[0m\u001b[0mshape\u001b[0m\u001b[0;34m\u001b[0m\u001b[0;34m\u001b[0m\u001b[0m\n\u001b[0m",
      "\u001b[0;31mNameError\u001b[0m: name 'test' is not defined"
     ]
    }
   ],
   "source": [
    "test.shape"
   ]
  },
  {
   "cell_type": "code",
   "execution_count": 72,
   "metadata": {},
   "outputs": [],
   "source": [
    "pred.drop(\"index\", axis=1, inplace=True)"
   ]
  },
  {
   "cell_type": "code",
   "execution_count": 73,
   "metadata": {},
   "outputs": [],
   "source": [
    "pred.drop(\"item_id\", axis=1, inplace=True)"
   ]
  },
  {
   "cell_type": "code",
   "execution_count": 74,
   "metadata": {},
   "outputs": [],
   "source": [
    "pred.to_csv(\"data/submit.csv\", index=None)"
   ]
  },
  {
   "cell_type": "code",
   "execution_count": null,
   "metadata": {},
   "outputs": [],
   "source": []
  },
  {
   "cell_type": "code",
   "execution_count": null,
   "metadata": {},
   "outputs": [],
   "source": []
  }
 ],
 "metadata": {
  "kernelspec": {
   "display_name": "Python 3",
   "language": "python",
   "name": "python3"
  },
  "language_info": {
   "codemirror_mode": {
    "name": "ipython",
    "version": 3
   },
   "file_extension": ".py",
   "mimetype": "text/x-python",
   "name": "python",
   "nbconvert_exporter": "python",
   "pygments_lexer": "ipython3",
   "version": "3.6.8"
  }
 },
 "nbformat": 4,
 "nbformat_minor": 2
}
